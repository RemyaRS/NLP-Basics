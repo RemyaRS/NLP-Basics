{
  "nbformat": 4,
  "nbformat_minor": 0,
  "metadata": {
    "colab": {
      "name": "NLP1_Tokenization.ipynb",
      "provenance": [],
      "authorship_tag": "ABX9TyPENsNKtWp5g27HdC71Etnh",
      "include_colab_link": true
    },
    "kernelspec": {
      "name": "python3",
      "display_name": "Python 3"
    },
    "language_info": {
      "name": "python"
    }
  },
  "cells": [
    {
      "cell_type": "markdown",
      "metadata": {
        "id": "view-in-github",
        "colab_type": "text"
      },
      "source": [
        "<a href=\"https://colab.research.google.com/github/RemyaRS/NLP-Basics/blob/main/NLP1_Tokenization.ipynb\" target=\"_parent\"><img src=\"https://colab.research.google.com/assets/colab-badge.svg\" alt=\"Open In Colab\"/></a>"
      ]
    },
    {
      "cell_type": "code",
      "execution_count": null,
      "metadata": {
        "colab": {
          "base_uri": "https://localhost:8080/"
        },
        "id": "--AR1Ey0Fm2_",
        "outputId": "146fd55e-3051-42b4-9ee7-7e3170315136"
      },
      "outputs": [
        {
          "output_type": "stream",
          "name": "stdout",
          "text": [
            "[nltk_data] Downloading package punkt to /root/nltk_data...\n",
            "[nltk_data]   Unzipping tokenizers/punkt.zip.\n"
          ]
        },
        {
          "output_type": "execute_result",
          "data": {
            "text/plain": [
              "True"
            ]
          },
          "metadata": {},
          "execution_count": 1
        }
      ],
      "source": [
        "import nltk\n",
        "nltk.download('punkt')"
      ]
    },
    {
      "cell_type": "markdown",
      "source": [
        "#Tokenization"
      ],
      "metadata": {
        "id": "uTLJl6H_or5M"
      }
    },
    {
      "cell_type": "code",
      "source": [
        "paragraph = \"\"\"would like to conclude by saying that no matter how much I praise my country’s achievement, it would always be less. Our country is our motherland and we should always be grateful for whatever we have got from our country. We should participate and put positive efforts in the growth and development of our nation.\n",
        "\n",
        "I would like to request you to make our nation proud, may it be by keeping our vicinity clean, educating and empowering the weaker section of the society, paying our taxes or conserving our natural resources by recycling and reusing. I would like to thank God for giving me this great nation India as my motherland.\"\"\""
      ],
      "metadata": {
        "id": "jGdJJwzGFxPx"
      },
      "execution_count": null,
      "outputs": []
    },
    {
      "cell_type": "code",
      "source": [
        "sentences = nltk.sent_tokenize(paragraph)\n",
        "sentences"
      ],
      "metadata": {
        "colab": {
          "base_uri": "https://localhost:8080/"
        },
        "id": "cMbke8xjF9Lv",
        "outputId": "642a1f3a-dac9-4b5c-ad93-6af4e64e5086"
      },
      "execution_count": null,
      "outputs": [
        {
          "output_type": "execute_result",
          "data": {
            "text/plain": [
              "['would like to conclude by saying that no matter how much I praise my country’s achievement, it would always be less.',\n",
              " 'Our country is our motherland and we should always be grateful for whatever we have got from our country.',\n",
              " 'We should participate and put positive efforts in the growth and development of our nation.',\n",
              " 'I would like to request you to make our nation proud, may it be by keeping our vicinity clean, educating and empowering the weaker section of the society, paying our taxes or conserving our natural resources by recycling and reusing.',\n",
              " 'I would like to thank God for giving me this great nation India as my motherland.']"
            ]
          },
          "metadata": {},
          "execution_count": 3
        }
      ]
    },
    {
      "cell_type": "code",
      "source": [
        "len(sentences)"
      ],
      "metadata": {
        "colab": {
          "base_uri": "https://localhost:8080/"
        },
        "id": "J5MTRv6FI62I",
        "outputId": "7007504f-025b-4443-8e46-542470d0ff21"
      },
      "execution_count": null,
      "outputs": [
        {
          "output_type": "execute_result",
          "data": {
            "text/plain": [
              "5"
            ]
          },
          "metadata": {},
          "execution_count": 4
        }
      ]
    },
    {
      "cell_type": "code",
      "source": [
        "words = nltk.word_tokenize(paragraph)\n",
        "words"
      ],
      "metadata": {
        "colab": {
          "base_uri": "https://localhost:8080/"
        },
        "id": "oX4w_fhAIb6E",
        "outputId": "5cb981fd-9077-4756-80ec-1bf33d70016b"
      },
      "execution_count": null,
      "outputs": [
        {
          "output_type": "execute_result",
          "data": {
            "text/plain": [
              "['would',\n",
              " 'like',\n",
              " 'to',\n",
              " 'conclude',\n",
              " 'by',\n",
              " 'saying',\n",
              " 'that',\n",
              " 'no',\n",
              " 'matter',\n",
              " 'how',\n",
              " 'much',\n",
              " 'I',\n",
              " 'praise',\n",
              " 'my',\n",
              " 'country',\n",
              " '’',\n",
              " 's',\n",
              " 'achievement',\n",
              " ',',\n",
              " 'it',\n",
              " 'would',\n",
              " 'always',\n",
              " 'be',\n",
              " 'less',\n",
              " '.',\n",
              " 'Our',\n",
              " 'country',\n",
              " 'is',\n",
              " 'our',\n",
              " 'motherland',\n",
              " 'and',\n",
              " 'we',\n",
              " 'should',\n",
              " 'always',\n",
              " 'be',\n",
              " 'grateful',\n",
              " 'for',\n",
              " 'whatever',\n",
              " 'we',\n",
              " 'have',\n",
              " 'got',\n",
              " 'from',\n",
              " 'our',\n",
              " 'country',\n",
              " '.',\n",
              " 'We',\n",
              " 'should',\n",
              " 'participate',\n",
              " 'and',\n",
              " 'put',\n",
              " 'positive',\n",
              " 'efforts',\n",
              " 'in',\n",
              " 'the',\n",
              " 'growth',\n",
              " 'and',\n",
              " 'development',\n",
              " 'of',\n",
              " 'our',\n",
              " 'nation',\n",
              " '.',\n",
              " 'I',\n",
              " 'would',\n",
              " 'like',\n",
              " 'to',\n",
              " 'request',\n",
              " 'you',\n",
              " 'to',\n",
              " 'make',\n",
              " 'our',\n",
              " 'nation',\n",
              " 'proud',\n",
              " ',',\n",
              " 'may',\n",
              " 'it',\n",
              " 'be',\n",
              " 'by',\n",
              " 'keeping',\n",
              " 'our',\n",
              " 'vicinity',\n",
              " 'clean',\n",
              " ',',\n",
              " 'educating',\n",
              " 'and',\n",
              " 'empowering',\n",
              " 'the',\n",
              " 'weaker',\n",
              " 'section',\n",
              " 'of',\n",
              " 'the',\n",
              " 'society',\n",
              " ',',\n",
              " 'paying',\n",
              " 'our',\n",
              " 'taxes',\n",
              " 'or',\n",
              " 'conserving',\n",
              " 'our',\n",
              " 'natural',\n",
              " 'resources',\n",
              " 'by',\n",
              " 'recycling',\n",
              " 'and',\n",
              " 'reusing',\n",
              " '.',\n",
              " 'I',\n",
              " 'would',\n",
              " 'like',\n",
              " 'to',\n",
              " 'thank',\n",
              " 'God',\n",
              " 'for',\n",
              " 'giving',\n",
              " 'me',\n",
              " 'this',\n",
              " 'great',\n",
              " 'nation',\n",
              " 'India',\n",
              " 'as',\n",
              " 'my',\n",
              " 'motherland',\n",
              " '.']"
            ]
          },
          "metadata": {},
          "execution_count": 5
        }
      ]
    },
    {
      "cell_type": "code",
      "source": [
        "len(words)"
      ],
      "metadata": {
        "colab": {
          "base_uri": "https://localhost:8080/"
        },
        "id": "UFSyRJCnI_VI",
        "outputId": "eb7d4f1c-62aa-46cf-f4b9-90486138125d"
      },
      "execution_count": null,
      "outputs": [
        {
          "output_type": "execute_result",
          "data": {
            "text/plain": [
              "122"
            ]
          },
          "metadata": {},
          "execution_count": 6
        }
      ]
    }
  ]
}