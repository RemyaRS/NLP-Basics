{
  "nbformat": 4,
  "nbformat_minor": 0,
  "metadata": {
    "colab": {
      "name": "TFIDF.ipynb",
      "provenance": [],
      "authorship_tag": "ABX9TyPLo1hyfTUFxe6fGqhEinXS",
      "include_colab_link": true
    },
    "kernelspec": {
      "name": "python3",
      "display_name": "Python 3"
    },
    "language_info": {
      "name": "python"
    }
  },
  "cells": [
    {
      "cell_type": "markdown",
      "metadata": {
        "id": "view-in-github",
        "colab_type": "text"
      },
      "source": [
        "<a href=\"https://colab.research.google.com/github/RemyaRS/NLP-Basics/blob/main/TFIDF.ipynb\" target=\"_parent\"><img src=\"https://colab.research.google.com/assets/colab-badge.svg\" alt=\"Open In Colab\"/></a>"
      ]
    },
    {
      "cell_type": "markdown",
      "source": [
        "Importing all Libraries needed"
      ],
      "metadata": {
        "id": "TB0TMa6vwdSp"
      }
    },
    {
      "cell_type": "code",
      "source": [
        "import nltk\n",
        "nltk.download('punkt')"
      ],
      "metadata": {
        "id": "T0rJ91aPnbPi",
        "colab": {
          "base_uri": "https://localhost:8080/"
        },
        "outputId": "2f646675-f157-4925-db3a-5b0d7c71ee85"
      },
      "execution_count": 2,
      "outputs": [
        {
          "output_type": "stream",
          "name": "stdout",
          "text": [
            "[nltk_data] Downloading package punkt to /root/nltk_data...\n",
            "[nltk_data]   Package punkt is already up-to-date!\n"
          ]
        },
        {
          "output_type": "execute_result",
          "data": {
            "text/plain": [
              "True"
            ]
          },
          "metadata": {},
          "execution_count": 2
        }
      ]
    },
    {
      "cell_type": "code",
      "source": [
        "# Cleaning the texts\n",
        "import re\n",
        "from nltk.corpus import stopwords\n",
        "nltk.download('stopwords')\n",
        "from nltk.stem.porter import PorterStemmer#for stemming\n",
        "from nltk.stem import WordNetLemmatizer#for lemmatization"
      ],
      "metadata": {
        "colab": {
          "base_uri": "https://localhost:8080/"
        },
        "id": "cHoftdR8seBL",
        "outputId": "397f8128-9214-4ce3-bf08-ee2e18fe27cc"
      },
      "execution_count": 3,
      "outputs": [
        {
          "output_type": "stream",
          "name": "stdout",
          "text": [
            "[nltk_data] Downloading package stopwords to /root/nltk_data...\n",
            "[nltk_data]   Unzipping corpora/stopwords.zip.\n"
          ]
        }
      ]
    },
    {
      "cell_type": "code",
      "source": [
        "paragraph = \"\"\"would like to conclude by saying that no matter how much I praise my country’s achievement, it would always be less. Our country is our motherland and we should always be grateful for whatever we have got from our country. We should participate and put positive efforts in the growth and development of our nation.\n",
        "\n",
        "I would like to request you to make our nation proud, may it be by keeping our vicinity clean, educating and empowering the weaker section of the society, paying our taxes or conserving our natural resources by recycling and reusing. I would like to thank God for giving me this great nation India as my motherland.\"\"\""
      ],
      "metadata": {
        "id": "8lPDxhsywI37"
      },
      "execution_count": 4,
      "outputs": []
    },
    {
      "cell_type": "code",
      "source": [
        "nltk.download('wordnet')"
      ],
      "metadata": {
        "colab": {
          "base_uri": "https://localhost:8080/"
        },
        "id": "GnwYIYJRc7yh",
        "outputId": "0e4d247a-6fd9-490f-e065-8a631c8164a8"
      },
      "execution_count": 5,
      "outputs": [
        {
          "output_type": "stream",
          "name": "stdout",
          "text": [
            "[nltk_data] Downloading package wordnet to /root/nltk_data...\n",
            "[nltk_data]   Unzipping corpora/wordnet.zip.\n"
          ]
        },
        {
          "output_type": "execute_result",
          "data": {
            "text/plain": [
              "True"
            ]
          },
          "metadata": {},
          "execution_count": 5
        }
      ]
    },
    {
      "cell_type": "code",
      "source": [
        "ps = PorterStemmer()\n",
        "wordnet=WordNetLemmatizer()\n",
        "sentences = nltk.sent_tokenize(paragraph)\n",
        "corpus = [] #list formed to store all sentences\n",
        "for i in range(len(sentences)):\n",
        "    review = re.sub('[^a-zA-Z]', ' ', sentences[i])#to replace everything other than a-z, A-Z and spaces\n",
        "    review = review.lower()#lower case everything left\n",
        "    review = review.split()#to produce list of words\n",
        "    review = [wordnet.lemmatize(word) for word in review if not word in set(stopwords.words('english'))]#stemming via ps + eleminating stopwords\n",
        "    review = ' '.join(review)#joining all list of words\n",
        "    corpus.append(review)#appending"
      ],
      "metadata": {
        "id": "DTJ0VISlsg8Y"
      },
      "execution_count": 6,
      "outputs": []
    },
    {
      "cell_type": "code",
      "source": [
        "# Creating the TF-IDF model\n",
        "from sklearn.feature_extraction.text import TfidfVectorizer\n",
        "cv = TfidfVectorizer()\n",
        "X = cv.fit_transform(corpus).toarray()"
      ],
      "metadata": {
        "id": "BAUHcvO8gRNO"
      },
      "execution_count": 7,
      "outputs": []
    },
    {
      "cell_type": "code",
      "source": [
        "X"
      ],
      "metadata": {
        "colab": {
          "base_uri": "https://localhost:8080/"
        },
        "id": "RL1po_ZhgWhG",
        "outputId": "4c4d6a1c-25dc-4e38-9b98-646c47fd6b26"
      },
      "execution_count": 8,
      "outputs": [
        {
          "output_type": "execute_result",
          "data": {
            "text/plain": [
              "array([[0.30795627, 0.24845718, 0.        , 0.30795627, 0.        ,\n",
              "        0.24845718, 0.        , 0.        , 0.        , 0.        ,\n",
              "        0.        , 0.        , 0.        , 0.        , 0.        ,\n",
              "        0.        , 0.        , 0.        , 0.30795627, 0.2062419 ,\n",
              "        0.        , 0.30795627, 0.        , 0.        , 0.30795627,\n",
              "        0.        , 0.        , 0.        , 0.        , 0.        ,\n",
              "        0.30795627, 0.        , 0.        , 0.        , 0.        ,\n",
              "        0.        , 0.        , 0.30795627, 0.        , 0.        ,\n",
              "        0.        , 0.        , 0.        , 0.        , 0.        ,\n",
              "        0.41248381],\n",
              "       [0.        , 0.30701885, 0.        , 0.        , 0.        ,\n",
              "        0.61403771, 0.        , 0.        , 0.        , 0.        ,\n",
              "        0.        , 0.        , 0.38054196, 0.38054196, 0.        ,\n",
              "        0.        , 0.        , 0.        , 0.        , 0.        ,\n",
              "        0.        , 0.        , 0.        , 0.30701885, 0.        ,\n",
              "        0.        , 0.        , 0.        , 0.        , 0.        ,\n",
              "        0.        , 0.        , 0.        , 0.        , 0.        ,\n",
              "        0.        , 0.        , 0.        , 0.        , 0.        ,\n",
              "        0.        , 0.        , 0.        , 0.        , 0.38054196,\n",
              "        0.        ],\n",
              "       [0.        , 0.        , 0.        , 0.        , 0.        ,\n",
              "        0.        , 0.39379499, 0.        , 0.39379499, 0.        ,\n",
              "        0.        , 0.        , 0.        , 0.        , 0.        ,\n",
              "        0.39379499, 0.        , 0.        , 0.        , 0.        ,\n",
              "        0.        , 0.        , 0.        , 0.        , 0.        ,\n",
              "        0.26372909, 0.        , 0.39379499, 0.        , 0.39379499,\n",
              "        0.        , 0.        , 0.39379499, 0.        , 0.        ,\n",
              "        0.        , 0.        , 0.        , 0.        , 0.        ,\n",
              "        0.        , 0.        , 0.        , 0.        , 0.        ,\n",
              "        0.        ],\n",
              "       [0.        , 0.        , 0.22169984, 0.        , 0.22169984,\n",
              "        0.        , 0.        , 0.22169984, 0.        , 0.22169984,\n",
              "        0.        , 0.        , 0.        , 0.        , 0.        ,\n",
              "        0.        , 0.        , 0.22169984, 0.        , 0.14847497,\n",
              "        0.22169984, 0.        , 0.22169984, 0.        , 0.        ,\n",
              "        0.14847497, 0.22169984, 0.        , 0.22169984, 0.        ,\n",
              "        0.        , 0.22169984, 0.        , 0.22169984, 0.22169984,\n",
              "        0.22169984, 0.22169984, 0.        , 0.22169984, 0.22169984,\n",
              "        0.22169984, 0.        , 0.22169984, 0.22169984, 0.        ,\n",
              "        0.14847497],\n",
              "       [0.        , 0.        , 0.        , 0.        , 0.        ,\n",
              "        0.        , 0.        , 0.        , 0.        , 0.        ,\n",
              "        0.37806016, 0.37806016, 0.        , 0.        , 0.37806016,\n",
              "        0.        , 0.37806016, 0.        , 0.        , 0.25319129,\n",
              "        0.        , 0.        , 0.        , 0.30501655, 0.        ,\n",
              "        0.25319129, 0.        , 0.        , 0.        , 0.        ,\n",
              "        0.        , 0.        , 0.        , 0.        , 0.        ,\n",
              "        0.        , 0.        , 0.        , 0.        , 0.        ,\n",
              "        0.        , 0.37806016, 0.        , 0.        , 0.        ,\n",
              "        0.25319129]])"
            ]
          },
          "metadata": {},
          "execution_count": 8
        }
      ]
    }
  ]
}
