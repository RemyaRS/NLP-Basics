{
  "nbformat": 4,
  "nbformat_minor": 0,
  "metadata": {
    "colab": {
      "name": "NLP2_Stemming.ipynb",
      "provenance": [],
      "authorship_tag": "ABX9TyOuG+AlVrI7DyYKabWIj5aY",
      "include_colab_link": true
    },
    "kernelspec": {
      "name": "python3",
      "display_name": "Python 3"
    },
    "language_info": {
      "name": "python"
    }
  },
  "cells": [
    {
      "cell_type": "markdown",
      "metadata": {
        "id": "view-in-github",
        "colab_type": "text"
      },
      "source": [
        "<a href=\"https://colab.research.google.com/github/RemyaRS/NLP-Basics/blob/main/NLP2_Stemming.ipynb\" target=\"_parent\"><img src=\"https://colab.research.google.com/assets/colab-badge.svg\" alt=\"Open In Colab\"/></a>"
      ]
    },
    {
      "cell_type": "markdown",
      "source": [
        "#Stemming"
      ],
      "metadata": {
        "id": "KllmIhavonPb"
      }
    },
    {
      "cell_type": "markdown",
      "source": [
        "Importing all Libraries needed"
      ],
      "metadata": {
        "id": "TB0TMa6vwdSp"
      }
    },
    {
      "cell_type": "code",
      "source": [
        "import nltk\n",
        "nltk.download('punkt')\n",
        "from nltk.stem import PorterStemmer\n",
        "from nltk.corpus import stopwords\n",
        "# PorterStemmer and stopwords are libraries\n",
        "#Stopwords are used remove words that does not put much effect on the meaning of the paragraph or sentences"
      ],
      "metadata": {
        "id": "T0rJ91aPnbPi",
        "colab": {
          "base_uri": "https://localhost:8080/"
        },
        "outputId": "8cdd672f-ec04-4e83-d8f9-a97b62d8e1f3"
      },
      "execution_count": null,
      "outputs": [
        {
          "output_type": "stream",
          "name": "stdout",
          "text": [
            "[nltk_data] Downloading package punkt to /root/nltk_data...\n",
            "[nltk_data]   Unzipping tokenizers/punkt.zip.\n"
          ]
        }
      ]
    },
    {
      "cell_type": "code",
      "source": [
        "nltk.download('stopwords')"
      ],
      "metadata": {
        "colab": {
          "base_uri": "https://localhost:8080/"
        },
        "id": "8oypnSG6udR9",
        "outputId": "619e812e-f321-4484-d53b-e331b51458d5"
      },
      "execution_count": null,
      "outputs": [
        {
          "output_type": "stream",
          "name": "stdout",
          "text": [
            "[nltk_data] Downloading package stopwords to /root/nltk_data...\n",
            "[nltk_data]   Unzipping corpora/stopwords.zip.\n"
          ]
        },
        {
          "output_type": "execute_result",
          "data": {
            "text/plain": [
              "True"
            ]
          },
          "metadata": {},
          "execution_count": 2
        }
      ]
    },
    {
      "cell_type": "code",
      "source": [
        "paragraph = \"\"\"would like to conclude by saying that no matter how much I praise my country’s achievement, it would always be less. Our country is our motherland and we should always be grateful for whatever we have got from our country. We should participate and put positive efforts in the growth and development of our nation.\n",
        "\n",
        "I would like to request you to make our nation proud, may it be by keeping our vicinity clean, educating and empowering the weaker section of the society, paying our taxes or conserving our natural resources by recycling and reusing. I would like to thank God for giving me this great nation India as my motherland.\"\"\""
      ],
      "metadata": {
        "id": "8lPDxhsywI37"
      },
      "execution_count": null,
      "outputs": []
    },
    {
      "cell_type": "code",
      "source": [
        "sentences = nltk.sent_tokenize(paragraph)\n",
        "stemmer = PorterStemmer()"
      ],
      "metadata": {
        "id": "y05yX9-yuk2t"
      },
      "execution_count": null,
      "outputs": []
    },
    {
      "cell_type": "code",
      "source": [
        "for i in range(len(sentences)):\n",
        "  words = nltk.word_tokenize(sentences[i])\n",
        "  words = [stemmer.stem(word) for word in words if word not in set(stopwords.words('english'))]\n",
        "  sentences[i] = ' '.join(words)  "
      ],
      "metadata": {
        "id": "XIWI4g6tt0GC"
      },
      "execution_count": null,
      "outputs": []
    },
    {
      "cell_type": "code",
      "source": [
        "sentences"
      ],
      "metadata": {
        "colab": {
          "base_uri": "https://localhost:8080/"
        },
        "id": "4lml5YdLuxUG",
        "outputId": "5fa87725-c488-4078-e1dd-9a311da74a94"
      },
      "execution_count": null,
      "outputs": [
        {
          "output_type": "execute_result",
          "data": {
            "text/plain": [
              "['would like conclud say matter much I prais countri ’ achiev , would alway less .',\n",
              " 'our countri motherland alway grate whatev got countri .',\n",
              " 'We particip put posit effort growth develop nation .',\n",
              " 'I would like request make nation proud , may keep vicin clean , educ empow weaker section societi , pay tax conserv natur resourc recycl reus .',\n",
              " 'I would like thank god give great nation india motherland .']"
            ]
          },
          "metadata": {},
          "execution_count": 6
        }
      ]
    },
    {
      "cell_type": "markdown",
      "source": [
        "Problem with stemming : It produces intermediate representation of the word, which may have no meaning .... Eg- particip, whatev etc......"
      ],
      "metadata": {
        "id": "D0u60sKovLUt"
      }
    }
  ]
}