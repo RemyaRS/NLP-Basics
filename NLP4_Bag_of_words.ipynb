{
  "nbformat": 4,
  "nbformat_minor": 0,
  "metadata": {
    "colab": {
      "name": "NLP4_Bag_of_words.ipynb",
      "provenance": [],
      "collapsed_sections": [],
      "authorship_tag": "ABX9TyMUnrmPpFXAMyP3CjEUjYr0",
      "include_colab_link": true
    },
    "kernelspec": {
      "name": "python3",
      "display_name": "Python 3"
    },
    "language_info": {
      "name": "python"
    }
  },
  "cells": [
    {
      "cell_type": "markdown",
      "metadata": {
        "id": "view-in-github",
        "colab_type": "text"
      },
      "source": [
        "<a href=\"https://colab.research.google.com/github/RemyaRS/NLP-Basics/blob/main/NLP4_Bag_of_words.ipynb\" target=\"_parent\"><img src=\"https://colab.research.google.com/assets/colab-badge.svg\" alt=\"Open In Colab\"/></a>"
      ]
    },
    {
      "cell_type": "markdown",
      "source": [
        "Importing all Libraries needed"
      ],
      "metadata": {
        "id": "TB0TMa6vwdSp"
      }
    },
    {
      "cell_type": "code",
      "source": [
        "import nltk\n",
        "nltk.download('punkt')"
      ],
      "metadata": {
        "id": "T0rJ91aPnbPi",
        "colab": {
          "base_uri": "https://localhost:8080/"
        },
        "outputId": "ebcfb6ad-7259-47e8-890b-c4a76c9e8ba7"
      },
      "execution_count": 2,
      "outputs": [
        {
          "output_type": "stream",
          "name": "stdout",
          "text": [
            "[nltk_data] Downloading package punkt to /root/nltk_data...\n",
            "[nltk_data]   Unzipping tokenizers/punkt.zip.\n"
          ]
        },
        {
          "output_type": "execute_result",
          "data": {
            "text/plain": [
              "True"
            ]
          },
          "metadata": {},
          "execution_count": 2
        }
      ]
    },
    {
      "cell_type": "code",
      "source": [
        "# Cleaning the texts\n",
        "import re\n",
        "from nltk.corpus import stopwords\n",
        "nltk.download('stopwords')\n",
        "from nltk.stem.porter import PorterStemmer#for stemming\n",
        "from nltk.stem import WordNetLemmatizer#for lemmatization"
      ],
      "metadata": {
        "colab": {
          "base_uri": "https://localhost:8080/"
        },
        "id": "cHoftdR8seBL",
        "outputId": "db7d683d-5b42-4e47-b683-209d1cb5ab78"
      },
      "execution_count": 3,
      "outputs": [
        {
          "output_type": "stream",
          "name": "stdout",
          "text": [
            "[nltk_data] Downloading package stopwords to /root/nltk_data...\n",
            "[nltk_data]   Unzipping corpora/stopwords.zip.\n"
          ]
        }
      ]
    },
    {
      "cell_type": "code",
      "source": [
        "paragraph = \"\"\"would like to conclude by saying that no matter how much I praise my country’s achievement, it would always be less. Our country is our motherland and we should always be grateful for whatever we have got from our country. We should participate and put positive efforts in the growth and development of our nation.\n",
        "\n",
        "I would like to request you to make our nation proud, may it be by keeping our vicinity clean, educating and empowering the weaker section of the society, paying our taxes or conserving our natural resources by recycling and reusing. I would like to thank God for giving me this great nation India as my motherland.\"\"\""
      ],
      "metadata": {
        "id": "8lPDxhsywI37"
      },
      "execution_count": 4,
      "outputs": []
    },
    {
      "cell_type": "code",
      "source": [
        "nltk.download('wordnet')"
      ],
      "metadata": {
        "id": "_n7whVgddCpO",
        "outputId": "44641f90-3437-4c3c-bdc0-ac3fbd37d312",
        "colab": {
          "base_uri": "https://localhost:8080/"
        }
      },
      "execution_count": 6,
      "outputs": [
        {
          "output_type": "stream",
          "name": "stdout",
          "text": [
            "[nltk_data] Downloading package wordnet to /root/nltk_data...\n",
            "[nltk_data]   Unzipping corpora/wordnet.zip.\n"
          ]
        },
        {
          "output_type": "execute_result",
          "data": {
            "text/plain": [
              "True"
            ]
          },
          "metadata": {},
          "execution_count": 6
        }
      ]
    },
    {
      "cell_type": "code",
      "source": [
        "ps = PorterStemmer()\n",
        "wordnet=WordNetLemmatizer()\n",
        "sentences = nltk.sent_tokenize(paragraph)\n",
        "corpus = [] #list formed to store all sentences\n",
        "for i in range(len(sentences)):\n",
        "    review = re.sub('[^a-zA-Z]', ' ', sentences[i])#to replace everything other than a-z, A-Z and spaces\n",
        "    review = review.lower()#lower case everything left\n",
        "    review = review.split()#to produce list of words\n",
        "    review = [wordnet.lemmatize(word) for word in review if not word in set(stopwords.words('english'))]#stemming via ps + eleminating stopwords\n",
        "    review = ' '.join(review)#joining all list of words\n",
        "    corpus.append(review)#appending"
      ],
      "metadata": {
        "id": "DTJ0VISlsg8Y"
      },
      "execution_count": 7,
      "outputs": []
    },
    {
      "cell_type": "code",
      "source": [
        "# Creating the Bag of Words model : document matrix\n",
        "from sklearn.feature_extraction.text import CountVectorizer #CountVectorizer is a library\n",
        "cv = CountVectorizer(max_features = 1500) # cv is an object\n",
        "X = cv.fit_transform(corpus).toarray()"
      ],
      "metadata": {
        "id": "DZo-8D5Jst72"
      },
      "execution_count": 8,
      "outputs": []
    }
  ]
}